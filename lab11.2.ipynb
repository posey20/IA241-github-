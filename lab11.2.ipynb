{
 "cells": [
  {
   "cell_type": "markdown",
   "id": "3cc3e5f9",
   "metadata": {},
   "source": [
    "# Lab 11. Working with Census data in Python "
   ]
  },
  {
   "cell_type": "code",
   "execution_count": 8,
   "id": "04902796",
   "metadata": {},
   "outputs": [
    {
     "name": "stdout",
     "output_type": "stream",
     "text": [
      "['B01001_001E', 'NAME', 'state', 'county']\n",
      "32560 Accomack County, Virginia 51 001\n",
      "15030 Alleghany County, Virginia 51 005\n",
      "12970 Amelia County, Virginia 51 007\n",
      "15814 Appomattox County, Virginia 51 011\n",
      "236434 Arlington County, Virginia 51 013\n",
      "4248 Bath County, Virginia 51 017\n",
      "78965 Bedford County, Virginia 51 019\n",
      "33440 Botetourt County, Virginia 51 023\n",
      "16336 Brunswick County, Virginia 51 025\n",
      "17087 Buckingham County, Virginia 51 029\n",
      "55406 Campbell County, Virginia 51 031\n",
      "29911 Carroll County, Virginia 51 035\n",
      "6965 Charles City County, Virginia 51 036\n",
      "11953 Charlotte County, Virginia 51 037\n",
      "14498 Clarke County, Virginia 51 043\n",
      "5103 Craig County, Virginia 51 045\n",
      "9869 Cumberland County, Virginia 51 049\n",
      "14524 Dickenson County, Virginia 51 051\n",
      "10960 Essex County, Virginia 51 057\n",
      "1149439 Fairfax County, Virginia 51 059\n",
      "15766 Floyd County, Virginia 51 063\n",
      "26873 Fluvanna County, Virginia 51 065\n",
      "88054 Frederick County, Virginia 51 069\n",
      "16760 Giles County, Virginia 51 071\n",
      "23472 Goochland County, Virginia 51 075\n",
      "15651 Grayson County, Virginia 51 077\n",
      "11403 Greensville County, Virginia 51 081\n",
      "34295 Halifax County, Virginia 51 083\n",
      "330076 Henrico County, Virginia 51 087\n",
      "51032 Henry County, Virginia 51 089\n",
      "37107 Isle of Wight County, Virginia 51 093\n",
      "76032 James City County, Virginia 51 095\n",
      "7011 King and Queen County, Virginia 51 097\n",
      "26679 King George County, Virginia 51 099\n",
      "16985 King William County, Virginia 51 101\n",
      "10686 Lancaster County, Virginia 51 103\n",
      "23723 Lee County, Virginia 51 105\n",
      "405312 Loudoun County, Virginia 51 107\n",
      "36654 Louisa County, Virginia 51 109\n",
      "12294 Lunenburg County, Virginia 51 111\n",
      "13208 Madison County, Virginia 51 113\n",
      "8760 Mathews County, Virginia 51 115\n",
      "30726 Mecklenburg County, Virginia 51 117\n",
      "10642 Middlesex County, Virginia 51 119\n",
      "98495 Montgomery County, Virginia 51 121\n",
      "14812 Nelson County, Virginia 51 125\n",
      "22310 New Kent County, Virginia 51 127\n",
      "11826 Northampton County, Virginia 51 131\n",
      "12151 Northumberland County, Virginia 51 133\n",
      "15338 Nottoway County, Virginia 51 135\n",
      "36501 Orange County, Virginia 51 137\n",
      "23862 Page County, Virginia 51 139\n",
      "17660 Patrick County, Virginia 51 141\n",
      "29253 Powhatan County, Virginia 51 145\n",
      "22892 Prince Edward County, Virginia 51 147\n",
      "38292 Prince George County, Virginia 51 149\n",
      "34113 Pulaski County, Virginia 51 155\n",
      "7360 Rappahannock County, Virginia 51 157\n",
      "94103 Roanoke County, Virginia 51 161\n",
      "22728 Rockbridge County, Virginia 51 163\n",
      "26937 Russell County, Virginia 51 167\n",
      "21761 Scott County, Virginia 51 169\n",
      "30539 Smyth County, Virginia 51 173\n",
      "17829 Southampton County, Virginia 51 175\n",
      "150185 Stafford County, Virginia 51 179\n",
      "6459 Surry County, Virginia 51 181\n",
      "41201 Tazewell County, Virginia 51 185\n",
      "39888 Warren County, Virginia 51 187\n",
      "17873 Westmoreland County, Virginia 51 193\n",
      "38032 Wise County, Virginia 51 195\n",
      "68389 York County, Virginia 51 199\n",
      "158309 Alexandria city, Virginia 51 510\n",
      "6477 Buena Vista city, Virginia 51 530\n",
      "47217 Charlottesville city, Virginia 51 540\n",
      "17283 Colonial Heights city, Virginia 51 570\n",
      "5653 Covington city, Virginia 51 580\n",
      "40668 Danville city, Virginia 51 590\n",
      "23312 Fairfax city, Virginia 51 600\n",
      "14309 Falls Church city, Virginia 51 610\n",
      "29059 Fredericksburg city, Virginia 51 630\n",
      "6402 Galax city, Virginia 51 640\n",
      "53558 Harrisonburg city, Virginia 51 660\n",
      "22500 Hopewell city, Virginia 51 670\n",
      "80970 Lynchburg city, Virginia 51 680\n",
      "41038 Manassas city, Virginia 51 683\n",
      "12646 Martinsville city, Virginia 51 690\n",
      "179582 Newport News city, Virginia 51 700\n",
      "3969 Norton city, Virginia 51 720\n",
      "30791 Petersburg city, Virginia 51 730\n",
      "94961 Portsmouth city, Virginia 51 740\n",
      "17833 Radford city, Virginia 51 750\n",
      "99122 Roanoke city, Virginia 51 770\n",
      "25290 Salem city, Virginia 51 775\n",
      "24660 Staunton city, Virginia 51 790\n",
      "91383 Suffolk city, Virginia 51 800\n",
      "450882 Virginia Beach city, Virginia 51 810\n",
      "22300 Waynesboro city, Virginia 51 820\n",
      "15034 Williamsburg city, Virginia 51 830\n",
      "27912 Winchester city, Virginia 51 840\n",
      "108819 Albemarle County, Virginia 51 003\n",
      "31782 Amherst County, Virginia 51 009\n",
      "75754 Augusta County, Virginia 51 015\n",
      "6334 Bland County, Virginia 51 021\n",
      "21374 Buchanan County, Virginia 51 027\n",
      "30581 Caroline County, Virginia 51 033\n",
      "348500 Chesterfield County, Virginia 51 041\n",
      "51935 Culpeper County, Virginia 51 047\n",
      "28686 Dinwiddie County, Virginia 51 053\n",
      "70353 Fauquier County, Virginia 51 061\n",
      "56231 Franklin County, Virginia 51 067\n",
      "37362 Gloucester County, Virginia 51 073\n",
      "19734 Greene County, Virginia 51 079\n",
      "106538 Hanover County, Virginia 51 085\n",
      "2202 Highland County, Virginia 51 091\n",
      "60867 Pittsylvania County, Virginia 51 143\n",
      "466834 Prince William County, Virginia 51 153\n",
      "8951 Richmond County, Virginia 51 159\n",
      "81138 Rockingham County, Virginia 51 165\n",
      "43441 Shenandoah County, Virginia 51 171\n",
      "134683 Spotsylvania County, Virginia 51 177\n",
      "11202 Sussex County, Virginia 51 183\n",
      "54005 Washington County, Virginia 51 191\n",
      "28725 Wythe County, Virginia 51 197\n",
      "17059 Bristol city, Virginia 51 520\n",
      "242647 Chesapeake city, Virginia 51 550\n",
      "5408 Emporia city, Virginia 51 595\n",
      "8015 Franklin city, Virginia 51 620\n",
      "135169 Hampton city, Virginia 51 650\n",
      "7205 Lexington city, Virginia 51 678\n",
      "17548 Manassas Park city, Virginia 51 685\n",
      "244300 Norfolk city, Virginia 51 710\n",
      "12121 Poquoson city, Virginia 51 735\n",
      "229233 Richmond city, Virginia 51 760\n"
     ]
    }
   ],
   "source": [
    "from urllib import request\n",
    "import json\n",
    "from pprint import pprint\n",
    "\n",
    "\n",
    "census_api_key = '81962f92d05db32c10337711f5302dab5424daf2' #get your key from https://api.census.gov/data/key_signup.html\n",
    "\n",
    "\n",
    "url_str = 'https://api.census.gov/data/2020/acs/acs5?get=B01001_001E,NAME&for=county:*&in=state:51&key='+census_api_key # create the url of your census data\n",
    "\n",
    "response = request.urlopen(url_str) # read the response into computer\n",
    "\n",
    "html_str = response.read().decode(\"utf-8\") # convert the response into string\n",
    "if (html_str):\n",
    "    json_data = json.loads(html_str) # convert the string into json\n",
    "    print (json_data[0])\n",
    "    for v1,name,state,county in json_data[1:]:\n",
    "        print (v1,name,state,county )"
   ]
  },
  {
   "cell_type": "markdown",
   "id": "a6a21d3d",
   "metadata": {},
   "source": [
    "# 3.1 Country with most population"
   ]
  },
  {
   "cell_type": "code",
   "execution_count": 11,
   "id": "0005b2b1",
   "metadata": {},
   "outputs": [
    {
     "name": "stdout",
     "output_type": "stream",
     "text": [
      "['B01001_001E', 'NAME', 'state', 'county']\n",
      "The Fairfax County, Virginia has the highest population 1132887.\n"
     ]
    }
   ],
   "source": [
    "url_str = 'https://api.census.gov/data/2016/acs/acs5?get=B01001_001E,NAME&for=county:*&in=state:51&key='+census_api_key # create the url of your census data\n",
    "\n",
    "response = request.urlopen(url_str) # read the response into computer\n",
    "\n",
    "html_str = response.read().decode(\"utf-8\") # convert the response into string\n",
    "max_p = 0\n",
    "max_county = ''\n",
    "if (html_str):\n",
    "    json_data = json.loads(html_str) # convert the string into json\n",
    "    print (json_data[0])\n",
    "    for v1,name,state,county in json_data[1:]:\n",
    "        if max_p < int(v1):\n",
    "            max_p= int(v1)\n",
    "            max_country = name\n",
    "        #print (v1,name,state,county )\n",
    "\n",
    "print(\"The {} has the highest population {}.\".format(max_country,max_p))"
   ]
  },
  {
   "cell_type": "markdown",
   "id": "0a36b79d",
   "metadata": {},
   "source": [
    "# 3.2 Country with the highest male population"
   ]
  },
  {
   "cell_type": "code",
   "execution_count": 12,
   "id": "7ae1a5cd",
   "metadata": {},
   "outputs": [
    {
     "name": "stdout",
     "output_type": "stream",
     "text": [
      "['B01001_002E', 'NAME', 'state', 'county']\n",
      "The Fairfax County, Virginia has the highest male population 560803.\n"
     ]
    }
   ],
   "source": [
    "url_str = 'https://api.census.gov/data/2016/acs/acs5?get=B01001_002E,NAME&for=county:*&in=state:51&key='+census_api_key # create the url of your census data\n",
    "\n",
    "response = request.urlopen(url_str) # read the response into computer\n",
    "\n",
    "html_str = response.read().decode(\"utf-8\") # convert the response into string\n",
    "max_p = 0\n",
    "max_county = ''\n",
    "if (html_str):\n",
    "    json_data = json.loads(html_str) # convert the string into json\n",
    "    print (json_data[0])\n",
    "    for v1,name,state,county in json_data[1:]:\n",
    "        if max_p < int(v1):\n",
    "            max_p= int(v1)\n",
    "            max_country = name\n",
    "        #print (v1,name,state,county )\n",
    "\n",
    "print(\"The {} has the highest male population {}.\".format(max_country,max_p))"
   ]
  },
  {
   "cell_type": "markdown",
   "id": "64f1665f",
   "metadata": {},
   "source": [
    "# 3.3 Country with the highest male/total population ratio"
   ]
  },
  {
   "cell_type": "code",
   "execution_count": 14,
   "id": "76b1de30",
   "metadata": {},
   "outputs": [
    {
     "name": "stdout",
     "output_type": "stream",
     "text": [
      "['B01001_001E', 'B01001_002E', 'NAME', 'state', 'county']\n",
      "The Sussex County, Virginia has the highest male population/total population ratio 0.6575470894059491.\n"
     ]
    }
   ],
   "source": [
    "url_str = 'https://api.census.gov/data/2016/acs/acs5?get=B01001_001E,B01001_002E,NAME&for=county:*&in=state:51&key='+census_api_key # create the url of your census data\n",
    "\n",
    "response = request.urlopen(url_str) # read the response into computer\n",
    "\n",
    "html_str = response.read().decode(\"utf-8\") # convert the response into string\n",
    "max_p = 0\n",
    "max_country = ''\n",
    "if (html_str):\n",
    "    json_data = json.loads(html_str) # convert the string into json\n",
    "    print (json_data[0])\n",
    "    for v1,v2,name,state,county in json_data[1:]:\n",
    "        if max_p < int(v2)/int(v1):\n",
    "            max_p = int(v2)/int(v1)\n",
    "            max_country = name\n",
    "        #print (v1,name,state,county )\n",
    "print(\"The {} has the highest male population/total population ratio {}.\".format(max_country,max_p))"
   ]
  },
  {
   "cell_type": "code",
   "execution_count": null,
   "id": "0bf5b16d",
   "metadata": {},
   "outputs": [],
   "source": []
  }
 ],
 "metadata": {
  "kernelspec": {
   "display_name": "conda_python3",
   "language": "python",
   "name": "conda_python3"
  },
  "language_info": {
   "codemirror_mode": {
    "name": "ipython",
    "version": 3
   },
   "file_extension": ".py",
   "mimetype": "text/x-python",
   "name": "python",
   "nbconvert_exporter": "python",
   "pygments_lexer": "ipython3",
   "version": "3.6.13"
  }
 },
 "nbformat": 4,
 "nbformat_minor": 5
}
