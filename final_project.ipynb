{
 "cells": [
  {
   "cell_type": "markdown",
   "id": "6423ffb3",
   "metadata": {},
   "source": [
    "# Analyze and Visualize COVID-19 Data"
   ]
  },
  {
   "cell_type": "markdown",
   "id": "d821aa78",
   "metadata": {},
   "source": [
    "This product will analyze and visualize different aspect of the COVID-19 pandemic in different countries/territories and how the countries/territories compare to each other."
   ]
  },
  {
   "cell_type": "markdown",
   "id": "7f385188",
   "metadata": {},
   "source": [
    "## Data Source"
   ]
  },
  {
   "cell_type": "code",
   "execution_count": 2,
   "id": "9c5cb52f",
   "metadata": {},
   "outputs": [],
   "source": [
    "%matplotlib inline\n",
    "import pandas"
   ]
  },
  {
   "cell_type": "markdown",
   "id": "d27c710a",
   "metadata": {},
   "source": [
    "## Import Data from S3 Bucket"
   ]
  },
  {
   "cell_type": "markdown",
   "id": "9698db31",
   "metadata": {},
   "source": [
    "This is data collected by a data source, the European Centre for Disease Pervention and Control, with a focus on information about COVID-19 in different countries/territories."
   ]
  },
  {
   "cell_type": "code",
   "execution_count": 3,
   "id": "c6e11a62",
   "metadata": {},
   "outputs": [
    {
     "data": {
      "text/html": [
       "<div>\n",
       "<style scoped>\n",
       "    .dataframe tbody tr th:only-of-type {\n",
       "        vertical-align: middle;\n",
       "    }\n",
       "\n",
       "    .dataframe tbody tr th {\n",
       "        vertical-align: top;\n",
       "    }\n",
       "\n",
       "    .dataframe thead th {\n",
       "        text-align: right;\n",
       "    }\n",
       "</style>\n",
       "<table border=\"1\" class=\"dataframe\">\n",
       "  <thead>\n",
       "    <tr style=\"text-align: right;\">\n",
       "      <th></th>\n",
       "      <th>dateRep</th>\n",
       "      <th>day</th>\n",
       "      <th>month</th>\n",
       "      <th>year</th>\n",
       "      <th>cases</th>\n",
       "      <th>deaths</th>\n",
       "      <th>countriesAndTerritories</th>\n",
       "      <th>geoId</th>\n",
       "      <th>countryterritoryCode</th>\n",
       "      <th>popData2019</th>\n",
       "      <th>continentExp</th>\n",
       "      <th>Cumulative_number_for_14_days_of_COVID-19_cases_per_100000</th>\n",
       "    </tr>\n",
       "  </thead>\n",
       "  <tbody>\n",
       "    <tr>\n",
       "      <th>0</th>\n",
       "      <td>14/12/2020</td>\n",
       "      <td>14</td>\n",
       "      <td>12</td>\n",
       "      <td>2020</td>\n",
       "      <td>746</td>\n",
       "      <td>6</td>\n",
       "      <td>Afghanistan</td>\n",
       "      <td>AF</td>\n",
       "      <td>AFG</td>\n",
       "      <td>38041757.0</td>\n",
       "      <td>Asia</td>\n",
       "      <td>9.013779</td>\n",
       "    </tr>\n",
       "    <tr>\n",
       "      <th>1</th>\n",
       "      <td>13/12/2020</td>\n",
       "      <td>13</td>\n",
       "      <td>12</td>\n",
       "      <td>2020</td>\n",
       "      <td>298</td>\n",
       "      <td>9</td>\n",
       "      <td>Afghanistan</td>\n",
       "      <td>AF</td>\n",
       "      <td>AFG</td>\n",
       "      <td>38041757.0</td>\n",
       "      <td>Asia</td>\n",
       "      <td>7.052776</td>\n",
       "    </tr>\n",
       "    <tr>\n",
       "      <th>2</th>\n",
       "      <td>2020-12-12 00:00:00</td>\n",
       "      <td>12</td>\n",
       "      <td>12</td>\n",
       "      <td>2020</td>\n",
       "      <td>113</td>\n",
       "      <td>11</td>\n",
       "      <td>Afghanistan</td>\n",
       "      <td>AF</td>\n",
       "      <td>AFG</td>\n",
       "      <td>38041757.0</td>\n",
       "      <td>Asia</td>\n",
       "      <td>6.868768</td>\n",
       "    </tr>\n",
       "    <tr>\n",
       "      <th>3</th>\n",
       "      <td>2020-11-12 00:00:00</td>\n",
       "      <td>11</td>\n",
       "      <td>12</td>\n",
       "      <td>2020</td>\n",
       "      <td>63</td>\n",
       "      <td>10</td>\n",
       "      <td>Afghanistan</td>\n",
       "      <td>AF</td>\n",
       "      <td>AFG</td>\n",
       "      <td>38041757.0</td>\n",
       "      <td>Asia</td>\n",
       "      <td>7.134266</td>\n",
       "    </tr>\n",
       "    <tr>\n",
       "      <th>4</th>\n",
       "      <td>2020-10-12 00:00:00</td>\n",
       "      <td>10</td>\n",
       "      <td>12</td>\n",
       "      <td>2020</td>\n",
       "      <td>202</td>\n",
       "      <td>16</td>\n",
       "      <td>Afghanistan</td>\n",
       "      <td>AF</td>\n",
       "      <td>AFG</td>\n",
       "      <td>38041757.0</td>\n",
       "      <td>Asia</td>\n",
       "      <td>6.968658</td>\n",
       "    </tr>\n",
       "    <tr>\n",
       "      <th>5</th>\n",
       "      <td>2020-09-12 00:00:00</td>\n",
       "      <td>9</td>\n",
       "      <td>12</td>\n",
       "      <td>2020</td>\n",
       "      <td>135</td>\n",
       "      <td>13</td>\n",
       "      <td>Afghanistan</td>\n",
       "      <td>AF</td>\n",
       "      <td>AFG</td>\n",
       "      <td>38041757.0</td>\n",
       "      <td>Asia</td>\n",
       "      <td>6.963401</td>\n",
       "    </tr>\n",
       "    <tr>\n",
       "      <th>6</th>\n",
       "      <td>2020-08-12 00:00:00</td>\n",
       "      <td>8</td>\n",
       "      <td>12</td>\n",
       "      <td>2020</td>\n",
       "      <td>200</td>\n",
       "      <td>6</td>\n",
       "      <td>Afghanistan</td>\n",
       "      <td>AF</td>\n",
       "      <td>AFG</td>\n",
       "      <td>38041757.0</td>\n",
       "      <td>Asia</td>\n",
       "      <td>7.094835</td>\n",
       "    </tr>\n",
       "    <tr>\n",
       "      <th>7</th>\n",
       "      <td>2020-07-12 00:00:00</td>\n",
       "      <td>7</td>\n",
       "      <td>12</td>\n",
       "      <td>2020</td>\n",
       "      <td>210</td>\n",
       "      <td>26</td>\n",
       "      <td>Afghanistan</td>\n",
       "      <td>AF</td>\n",
       "      <td>AFG</td>\n",
       "      <td>38041757.0</td>\n",
       "      <td>Asia</td>\n",
       "      <td>7.215755</td>\n",
       "    </tr>\n",
       "    <tr>\n",
       "      <th>8</th>\n",
       "      <td>2020-06-12 00:00:00</td>\n",
       "      <td>6</td>\n",
       "      <td>12</td>\n",
       "      <td>2020</td>\n",
       "      <td>234</td>\n",
       "      <td>10</td>\n",
       "      <td>Afghanistan</td>\n",
       "      <td>AF</td>\n",
       "      <td>AFG</td>\n",
       "      <td>38041757.0</td>\n",
       "      <td>Asia</td>\n",
       "      <td>7.326160</td>\n",
       "    </tr>\n",
       "    <tr>\n",
       "      <th>9</th>\n",
       "      <td>2020-05-12 00:00:00</td>\n",
       "      <td>5</td>\n",
       "      <td>12</td>\n",
       "      <td>2020</td>\n",
       "      <td>235</td>\n",
       "      <td>18</td>\n",
       "      <td>Afghanistan</td>\n",
       "      <td>AF</td>\n",
       "      <td>AFG</td>\n",
       "      <td>38041757.0</td>\n",
       "      <td>Asia</td>\n",
       "      <td>7.115865</td>\n",
       "    </tr>\n",
       "    <tr>\n",
       "      <th>10</th>\n",
       "      <td>2020-04-12 00:00:00</td>\n",
       "      <td>4</td>\n",
       "      <td>12</td>\n",
       "      <td>2020</td>\n",
       "      <td>119</td>\n",
       "      <td>5</td>\n",
       "      <td>Afghanistan</td>\n",
       "      <td>AF</td>\n",
       "      <td>AFG</td>\n",
       "      <td>38041757.0</td>\n",
       "      <td>Asia</td>\n",
       "      <td>7.107979</td>\n",
       "    </tr>\n",
       "    <tr>\n",
       "      <th>11</th>\n",
       "      <td>2020-03-12 00:00:00</td>\n",
       "      <td>3</td>\n",
       "      <td>12</td>\n",
       "      <td>2020</td>\n",
       "      <td>202</td>\n",
       "      <td>19</td>\n",
       "      <td>Afghanistan</td>\n",
       "      <td>AF</td>\n",
       "      <td>AFG</td>\n",
       "      <td>38041757.0</td>\n",
       "      <td>Asia</td>\n",
       "      <td>7.536455</td>\n",
       "    </tr>\n",
       "    <tr>\n",
       "      <th>12</th>\n",
       "      <td>2020-02-12 00:00:00</td>\n",
       "      <td>2</td>\n",
       "      <td>12</td>\n",
       "      <td>2020</td>\n",
       "      <td>400</td>\n",
       "      <td>48</td>\n",
       "      <td>Afghanistan</td>\n",
       "      <td>AF</td>\n",
       "      <td>AFG</td>\n",
       "      <td>38041757.0</td>\n",
       "      <td>Asia</td>\n",
       "      <td>7.005460</td>\n",
       "    </tr>\n",
       "    <tr>\n",
       "      <th>13</th>\n",
       "      <td>2020-01-12 00:00:00</td>\n",
       "      <td>1</td>\n",
       "      <td>12</td>\n",
       "      <td>2020</td>\n",
       "      <td>272</td>\n",
       "      <td>11</td>\n",
       "      <td>Afghanistan</td>\n",
       "      <td>AF</td>\n",
       "      <td>AFG</td>\n",
       "      <td>38041757.0</td>\n",
       "      <td>Asia</td>\n",
       "      <td>6.960772</td>\n",
       "    </tr>\n",
       "    <tr>\n",
       "      <th>14</th>\n",
       "      <td>30/11/2020</td>\n",
       "      <td>30</td>\n",
       "      <td>11</td>\n",
       "      <td>2020</td>\n",
       "      <td>0</td>\n",
       "      <td>0</td>\n",
       "      <td>Afghanistan</td>\n",
       "      <td>AF</td>\n",
       "      <td>AFG</td>\n",
       "      <td>38041757.0</td>\n",
       "      <td>Asia</td>\n",
       "      <td>6.416633</td>\n",
       "    </tr>\n",
       "  </tbody>\n",
       "</table>\n",
       "</div>"
      ],
      "text/plain": [
       "                dateRep  day  month  year  cases  deaths  \\\n",
       "0            14/12/2020   14     12  2020    746       6   \n",
       "1            13/12/2020   13     12  2020    298       9   \n",
       "2   2020-12-12 00:00:00   12     12  2020    113      11   \n",
       "3   2020-11-12 00:00:00   11     12  2020     63      10   \n",
       "4   2020-10-12 00:00:00   10     12  2020    202      16   \n",
       "5   2020-09-12 00:00:00    9     12  2020    135      13   \n",
       "6   2020-08-12 00:00:00    8     12  2020    200       6   \n",
       "7   2020-07-12 00:00:00    7     12  2020    210      26   \n",
       "8   2020-06-12 00:00:00    6     12  2020    234      10   \n",
       "9   2020-05-12 00:00:00    5     12  2020    235      18   \n",
       "10  2020-04-12 00:00:00    4     12  2020    119       5   \n",
       "11  2020-03-12 00:00:00    3     12  2020    202      19   \n",
       "12  2020-02-12 00:00:00    2     12  2020    400      48   \n",
       "13  2020-01-12 00:00:00    1     12  2020    272      11   \n",
       "14           30/11/2020   30     11  2020      0       0   \n",
       "\n",
       "   countriesAndTerritories geoId countryterritoryCode  popData2019  \\\n",
       "0              Afghanistan    AF                  AFG   38041757.0   \n",
       "1              Afghanistan    AF                  AFG   38041757.0   \n",
       "2              Afghanistan    AF                  AFG   38041757.0   \n",
       "3              Afghanistan    AF                  AFG   38041757.0   \n",
       "4              Afghanistan    AF                  AFG   38041757.0   \n",
       "5              Afghanistan    AF                  AFG   38041757.0   \n",
       "6              Afghanistan    AF                  AFG   38041757.0   \n",
       "7              Afghanistan    AF                  AFG   38041757.0   \n",
       "8              Afghanistan    AF                  AFG   38041757.0   \n",
       "9              Afghanistan    AF                  AFG   38041757.0   \n",
       "10             Afghanistan    AF                  AFG   38041757.0   \n",
       "11             Afghanistan    AF                  AFG   38041757.0   \n",
       "12             Afghanistan    AF                  AFG   38041757.0   \n",
       "13             Afghanistan    AF                  AFG   38041757.0   \n",
       "14             Afghanistan    AF                  AFG   38041757.0   \n",
       "\n",
       "   continentExp  Cumulative_number_for_14_days_of_COVID-19_cases_per_100000  \n",
       "0          Asia                                           9.013779           \n",
       "1          Asia                                           7.052776           \n",
       "2          Asia                                           6.868768           \n",
       "3          Asia                                           7.134266           \n",
       "4          Asia                                           6.968658           \n",
       "5          Asia                                           6.963401           \n",
       "6          Asia                                           7.094835           \n",
       "7          Asia                                           7.215755           \n",
       "8          Asia                                           7.326160           \n",
       "9          Asia                                           7.115865           \n",
       "10         Asia                                           7.107979           \n",
       "11         Asia                                           7.536455           \n",
       "12         Asia                                           7.005460           \n",
       "13         Asia                                           6.960772           \n",
       "14         Asia                                           6.416633           "
      ]
     },
     "execution_count": 3,
     "metadata": {},
     "output_type": "execute_result"
    }
   ],
   "source": [
    "df = pandas.read_excel('s3://posey-ia214/covid_data (1).xls')\n",
    "df[:15] # top fifteen rows"
   ]
  },
  {
   "cell_type": "markdown",
   "id": "677af255",
   "metadata": {},
   "source": [
    "This small portion of data was collected by the European Centre for Disease Pervention and Control, which focused on the COVID-19 pandemic and how different variables affect different countries/territories. This portion of information depicts Afghanistan and data from the COVID-19 pandemic."
   ]
  },
  {
   "cell_type": "markdown",
   "id": "859fe334",
   "metadata": {},
   "source": [
    "## The Top 15 Countries with the Highest Cases"
   ]
  },
  {
   "cell_type": "code",
   "execution_count": 4,
   "id": "fbf6c6ab",
   "metadata": {},
   "outputs": [
    {
     "data": {
      "text/plain": [
       "<AxesSubplot:xlabel='countriesAndTerritories'>"
      ]
     },
     "execution_count": 4,
     "metadata": {},
     "output_type": "execute_result"
    },
    {
     "data": {
      "image/png": "[encoded data removed]",
      "text/plain": [
       "<Figure size 432x288 with 1 Axes>"
      ]
     },
     "metadata": {
      "needs_background": "light"
     },
     "output_type": "display_data"
    }
   ],
   "source": [
    "sum_death_per_country = df.groupby('countriesAndTerritories').sum()['cases']\n",
    "sum_death_per_country.nlargest(15).plot.bar()"
   ]
  },
  {
   "cell_type": "markdown",
   "id": "1cc6a420",
   "metadata": {},
   "source": [
    "This bar graph shows the top fifteen coutries with the highest cases of COVID. This data was formed with the use of the .groupby() command to collect and divide data base on countries/territories and the .sum() command to add up all the cases of the different countries/territories. The chart was formed with the use of the .nlargest(15) to collect the countries with the highest cases of COVID. This graph indicates that some of the top coutries with the highest cases of COVID include: the United States of America, India, Brazil, Russia, and France."
   ]
  },
  {
   "cell_type": "markdown",
   "id": "9c0e17b4",
   "metadata": {},
   "source": [
    "## The Top 15 Countries with the Lowest Cases"
   ]
  },
  {
   "cell_type": "code",
   "execution_count": 5,
   "id": "174a63c2",
   "metadata": {},
   "outputs": [
    {
     "data": {
      "text/plain": [
       "<AxesSubplot:xlabel='countriesAndTerritories'>"
      ]
     },
     "execution_count": 5,
     "metadata": {},
     "output_type": "execute_result"
    },
    {
     "data": {
      "image/png": "[encoded data removed]",
      "text/plain": [
       "<Figure size 432x288 with 1 Axes>"
      ]
     },
     "metadata": {
      "needs_background": "light"
     },
     "output_type": "display_data"
    }
   ],
   "source": [
    "sum_death_per_country_l = df.groupby('countriesAndTerritories').sum()['cases']\n",
    "sum_death_per_country_l.nsmallest(15).plot.bar()"
   ]
  },
  {
   "cell_type": "markdown",
   "id": "87ca9684",
   "metadata": {},
   "source": [
    "This bar graph shows the top fifteen coutries/territories with the lowest cases of COVID. This data was formed with the use of the .groupby() command to collect and divide data base on country/territories and the .sum() command to add up all the cases of the countries/territories. The chart was formed with the use of the .nsmallest(15) to collect fifteen countries with the lowest cases of COVID. This graph indicats that some of the lowest countries/territories with the lowest cases of COVID include: Vanuatu,Wallis and Futuna, Marshall Islands, Auguilla, and Montserrat."
   ]
  },
  {
   "cell_type": "markdown",
   "id": "1dbe6e23",
   "metadata": {},
   "source": [
    "## List of Countries"
   ]
  },
  {
   "cell_type": "code",
   "execution_count": 6,
   "id": "e49e7970",
   "metadata": {},
   "outputs": [
    {
     "data": {
      "text/plain": [
       "array(['Afghanistan', 'Albania', 'Algeria', 'Andorra', 'Angola',\n",
       "       'Anguilla', 'Antigua_and_Barbuda', 'Argentina', 'Armenia', 'Aruba',\n",
       "       'Australia', 'Austria', 'Azerbaijan', 'Bahamas', 'Bahrain',\n",
       "       'Bangladesh', 'Barbados', 'Belarus', 'Belgium', 'Belize', 'Benin',\n",
       "       'Bermuda', 'Bhutan', 'Bolivia',\n",
       "       'Bonaire, Saint Eustatius and Saba', 'Bosnia_and_Herzegovina',\n",
       "       'Botswana', 'Brazil', 'British_Virgin_Islands',\n",
       "       'Brunei_Darussalam', 'Bulgaria', 'Burkina_Faso', 'Burundi',\n",
       "       'Cambodia', 'Cameroon', 'Canada', 'Cape_Verde',\n",
       "       'Cases_on_an_international_conveyance_Japan', 'Cayman_Islands',\n",
       "       'Central_African_Republic', 'Chad', 'Chile', 'China', 'Colombia',\n",
       "       'Comoros', 'Congo', 'Costa_Rica', 'Cote_dIvoire', 'Croatia',\n",
       "       'Cuba', 'CuraÃ§ao', 'Cyprus', 'Czechia',\n",
       "       'Democratic_Republic_of_the_Congo', 'Denmark', 'Djibouti',\n",
       "       'Dominica', 'Dominican_Republic', 'Ecuador', 'Egypt',\n",
       "       'El_Salvador', 'Equatorial_Guinea', 'Eritrea', 'Estonia',\n",
       "       'Eswatini', 'Ethiopia', 'Falkland_Islands_(Malvinas)',\n",
       "       'Faroe_Islands', 'Fiji', 'Finland', 'France', 'French_Polynesia',\n",
       "       'Gabon', 'Gambia', 'Georgia', 'Germany', 'Ghana', 'Gibraltar',\n",
       "       'Greece', 'Greenland', 'Grenada', 'Guam', 'Guatemala', 'Guernsey',\n",
       "       'Guinea', 'Guinea_Bissau', 'Guyana', 'Haiti', 'Holy_See',\n",
       "       'Honduras', 'Hungary', 'Iceland', 'India', 'Indonesia', 'Iran',\n",
       "       'Iraq', 'Ireland', 'Isle_of_Man', 'Israel', 'Italy', 'Jamaica',\n",
       "       'Japan', 'Jersey', 'Jordan', 'Kazakhstan', 'Kenya', 'Kosovo',\n",
       "       'Kuwait', 'Kyrgyzstan', 'Laos', 'Latvia', 'Lebanon', 'Lesotho',\n",
       "       'Liberia', 'Libya', 'Liechtenstein', 'Lithuania', 'Luxembourg',\n",
       "       'Madagascar', 'Malawi', 'Malaysia', 'Maldives', 'Mali', 'Malta',\n",
       "       'Marshall_Islands', 'Mauritania', 'Mauritius', 'Mexico', 'Moldova',\n",
       "       'Monaco', 'Mongolia', 'Montenegro', 'Montserrat', 'Morocco',\n",
       "       'Mozambique', 'Myanmar', 'Namibia', 'Nepal', 'Netherlands',\n",
       "       'New_Caledonia', 'New_Zealand', 'Nicaragua', 'Niger', 'Nigeria',\n",
       "       'North_Macedonia', 'Northern_Mariana_Islands', 'Norway', 'Oman',\n",
       "       'Pakistan', 'Palestine', 'Panama', 'Papua_New_Guinea', 'Paraguay',\n",
       "       'Peru', 'Philippines', 'Poland', 'Portugal', 'Puerto_Rico',\n",
       "       'Qatar', 'Romania', 'Russia', 'Rwanda', 'Saint_Kitts_and_Nevis',\n",
       "       'Saint_Lucia', 'Saint_Vincent_and_the_Grenadines', 'San_Marino',\n",
       "       'Sao_Tome_and_Principe', 'Saudi_Arabia', 'Senegal', 'Serbia',\n",
       "       'Seychelles', 'Sierra_Leone', 'Singapore', 'Sint_Maarten',\n",
       "       'Slovakia', 'Slovenia', 'Solomon_Islands', 'Somalia',\n",
       "       'South_Africa', 'South_Korea', 'South_Sudan', 'Spain', 'Sri_Lanka',\n",
       "       'Sudan', 'Suriname', 'Sweden', 'Switzerland', 'Syria', 'Taiwan',\n",
       "       'Tajikistan', 'Thailand', 'Timor_Leste', 'Togo',\n",
       "       'Trinidad_and_Tobago', 'Tunisia', 'Turkey',\n",
       "       'Turks_and_Caicos_islands', 'Uganda', 'Ukraine',\n",
       "       'United_Arab_Emirates', 'United_Kingdom',\n",
       "       'United_Republic_of_Tanzania', 'United_States_of_America',\n",
       "       'United_States_Virgin_Islands', 'Uruguay', 'Uzbekistan', 'Vanuatu',\n",
       "       'Venezuela', 'Vietnam', 'Wallis_and_Futuna', 'Western_Sahara',\n",
       "       'Yemen', 'Zambia', 'Zimbabwe'], dtype=object)"
      ]
     },
     "execution_count": 6,
     "metadata": {},
     "output_type": "execute_result"
    }
   ],
   "source": [
    "pandas.unique(df['countriesAndTerritories'])"
   ]
  },
  {
   "cell_type": "markdown",
   "id": "5be44be5",
   "metadata": {},
   "source": [
    "This small portion of data was collected by the European Centre for Disease Pervention and Control. This information is displayed by the command to pull information about different values from the \"countriesAndTerritories\" column of data. The data frame shows all the different countries/territories in the \"countriesAndTerritories\" column."
   ]
  },
  {
   "cell_type": "markdown",
   "id": "c11e9cb1",
   "metadata": {},
   "source": [
    "## The Data for India"
   ]
  },
  {
   "cell_type": "code",
   "execution_count": 7,
   "id": "f3e230fb",
   "metadata": {},
   "outputs": [
    {
     "data": {
      "text/html": [
       "<div>\n",
       "<style scoped>\n",
       "    .dataframe tbody tr th:only-of-type {\n",
       "        vertical-align: middle;\n",
       "    }\n",
       "\n",
       "    .dataframe tbody tr th {\n",
       "        vertical-align: top;\n",
       "    }\n",
       "\n",
       "    .dataframe thead th {\n",
       "        text-align: right;\n",
       "    }\n",
       "</style>\n",
       "<table border=\"1\" class=\"dataframe\">\n",
       "  <thead>\n",
       "    <tr style=\"text-align: right;\">\n",
       "      <th></th>\n",
       "      <th>dateRep</th>\n",
       "      <th>day</th>\n",
       "      <th>month</th>\n",
       "      <th>year</th>\n",
       "      <th>cases</th>\n",
       "      <th>deaths</th>\n",
       "      <th>countriesAndTerritories</th>\n",
       "      <th>geoId</th>\n",
       "      <th>countryterritoryCode</th>\n",
       "      <th>popData2019</th>\n",
       "      <th>continentExp</th>\n",
       "      <th>Cumulative_number_for_14_days_of_COVID-19_cases_per_100000</th>\n",
       "    </tr>\n",
       "  </thead>\n",
       "  <tbody>\n",
       "    <tr>\n",
       "      <th>26745</th>\n",
       "      <td>14/12/2020</td>\n",
       "      <td>14</td>\n",
       "      <td>12</td>\n",
       "      <td>2020</td>\n",
       "      <td>27071</td>\n",
       "      <td>336</td>\n",
       "      <td>India</td>\n",
       "      <td>IN</td>\n",
       "      <td>IND</td>\n",
       "      <td>1.366418e+09</td>\n",
       "      <td>Asia</td>\n",
       "      <td>33.109128</td>\n",
       "    </tr>\n",
       "    <tr>\n",
       "      <th>26746</th>\n",
       "      <td>13/12/2020</td>\n",
       "      <td>13</td>\n",
       "      <td>12</td>\n",
       "      <td>2020</td>\n",
       "      <td>30254</td>\n",
       "      <td>391</td>\n",
       "      <td>India</td>\n",
       "      <td>IN</td>\n",
       "      <td>IND</td>\n",
       "      <td>1.366418e+09</td>\n",
       "      <td>Asia</td>\n",
       "      <td>33.965454</td>\n",
       "    </tr>\n",
       "    <tr>\n",
       "      <th>26747</th>\n",
       "      <td>2020-12-12 00:00:00</td>\n",
       "      <td>12</td>\n",
       "      <td>12</td>\n",
       "      <td>2020</td>\n",
       "      <td>30006</td>\n",
       "      <td>442</td>\n",
       "      <td>India</td>\n",
       "      <td>IN</td>\n",
       "      <td>IND</td>\n",
       "      <td>1.366418e+09</td>\n",
       "      <td>Asia</td>\n",
       "      <td>34.811169</td>\n",
       "    </tr>\n",
       "    <tr>\n",
       "      <th>26748</th>\n",
       "      <td>2020-11-12 00:00:00</td>\n",
       "      <td>11</td>\n",
       "      <td>12</td>\n",
       "      <td>2020</td>\n",
       "      <td>29398</td>\n",
       "      <td>414</td>\n",
       "      <td>India</td>\n",
       "      <td>IN</td>\n",
       "      <td>IND</td>\n",
       "      <td>1.366418e+09</td>\n",
       "      <td>Asia</td>\n",
       "      <td>35.639320</td>\n",
       "    </tr>\n",
       "    <tr>\n",
       "      <th>26749</th>\n",
       "      <td>2020-10-12 00:00:00</td>\n",
       "      <td>10</td>\n",
       "      <td>12</td>\n",
       "      <td>2020</td>\n",
       "      <td>31521</td>\n",
       "      <td>412</td>\n",
       "      <td>India</td>\n",
       "      <td>IN</td>\n",
       "      <td>IND</td>\n",
       "      <td>1.366418e+09</td>\n",
       "      <td>Asia</td>\n",
       "      <td>36.640771</td>\n",
       "    </tr>\n",
       "    <tr>\n",
       "      <th>26750</th>\n",
       "      <td>2020-09-12 00:00:00</td>\n",
       "      <td>9</td>\n",
       "      <td>12</td>\n",
       "      <td>2020</td>\n",
       "      <td>32080</td>\n",
       "      <td>402</td>\n",
       "      <td>India</td>\n",
       "      <td>IN</td>\n",
       "      <td>IND</td>\n",
       "      <td>1.366418e+09</td>\n",
       "      <td>Asia</td>\n",
       "      <td>37.589822</td>\n",
       "    </tr>\n",
       "    <tr>\n",
       "      <th>26751</th>\n",
       "      <td>2020-08-12 00:00:00</td>\n",
       "      <td>8</td>\n",
       "      <td>12</td>\n",
       "      <td>2020</td>\n",
       "      <td>26567</td>\n",
       "      <td>385</td>\n",
       "      <td>India</td>\n",
       "      <td>IN</td>\n",
       "      <td>IND</td>\n",
       "      <td>1.366418e+09</td>\n",
       "      <td>Asia</td>\n",
       "      <td>38.489693</td>\n",
       "    </tr>\n",
       "    <tr>\n",
       "      <th>26752</th>\n",
       "      <td>2020-07-12 00:00:00</td>\n",
       "      <td>7</td>\n",
       "      <td>12</td>\n",
       "      <td>2020</td>\n",
       "      <td>32981</td>\n",
       "      <td>391</td>\n",
       "      <td>India</td>\n",
       "      <td>IN</td>\n",
       "      <td>IND</td>\n",
       "      <td>1.366418e+09</td>\n",
       "      <td>Asia</td>\n",
       "      <td>39.324577</td>\n",
       "    </tr>\n",
       "    <tr>\n",
       "      <th>26753</th>\n",
       "      <td>2020-06-12 00:00:00</td>\n",
       "      <td>6</td>\n",
       "      <td>12</td>\n",
       "      <td>2020</td>\n",
       "      <td>36011</td>\n",
       "      <td>482</td>\n",
       "      <td>India</td>\n",
       "      <td>IN</td>\n",
       "      <td>IND</td>\n",
       "      <td>1.366418e+09</td>\n",
       "      <td>Asia</td>\n",
       "      <td>40.135310</td>\n",
       "    </tr>\n",
       "    <tr>\n",
       "      <th>26754</th>\n",
       "      <td>2020-05-12 00:00:00</td>\n",
       "      <td>5</td>\n",
       "      <td>12</td>\n",
       "      <td>2020</td>\n",
       "      <td>36652</td>\n",
       "      <td>512</td>\n",
       "      <td>India</td>\n",
       "      <td>IN</td>\n",
       "      <td>IND</td>\n",
       "      <td>1.366418e+09</td>\n",
       "      <td>Asia</td>\n",
       "      <td>40.808457</td>\n",
       "    </tr>\n",
       "    <tr>\n",
       "      <th>26755</th>\n",
       "      <td>2020-04-12 00:00:00</td>\n",
       "      <td>4</td>\n",
       "      <td>12</td>\n",
       "      <td>2020</td>\n",
       "      <td>36595</td>\n",
       "      <td>540</td>\n",
       "      <td>India</td>\n",
       "      <td>IN</td>\n",
       "      <td>IND</td>\n",
       "      <td>1.366418e+09</td>\n",
       "      <td>Asia</td>\n",
       "      <td>41.509560</td>\n",
       "    </tr>\n",
       "    <tr>\n",
       "      <th>26756</th>\n",
       "      <td>2020-03-12 00:00:00</td>\n",
       "      <td>3</td>\n",
       "      <td>12</td>\n",
       "      <td>2020</td>\n",
       "      <td>35551</td>\n",
       "      <td>526</td>\n",
       "      <td>India</td>\n",
       "      <td>IN</td>\n",
       "      <td>IND</td>\n",
       "      <td>1.366418e+09</td>\n",
       "      <td>Asia</td>\n",
       "      <td>42.189220</td>\n",
       "    </tr>\n",
       "    <tr>\n",
       "      <th>26757</th>\n",
       "      <td>2020-02-12 00:00:00</td>\n",
       "      <td>2</td>\n",
       "      <td>12</td>\n",
       "      <td>2020</td>\n",
       "      <td>36604</td>\n",
       "      <td>501</td>\n",
       "      <td>India</td>\n",
       "      <td>IN</td>\n",
       "      <td>IND</td>\n",
       "      <td>1.366418e+09</td>\n",
       "      <td>Asia</td>\n",
       "      <td>42.922891</td>\n",
       "    </tr>\n",
       "    <tr>\n",
       "      <th>26758</th>\n",
       "      <td>2020-01-12 00:00:00</td>\n",
       "      <td>1</td>\n",
       "      <td>12</td>\n",
       "      <td>2020</td>\n",
       "      <td>31118</td>\n",
       "      <td>482</td>\n",
       "      <td>India</td>\n",
       "      <td>IN</td>\n",
       "      <td>IND</td>\n",
       "      <td>1.366418e+09</td>\n",
       "      <td>Asia</td>\n",
       "      <td>43.070210</td>\n",
       "    </tr>\n",
       "    <tr>\n",
       "      <th>26759</th>\n",
       "      <td>30/11/2020</td>\n",
       "      <td>30</td>\n",
       "      <td>11</td>\n",
       "      <td>2020</td>\n",
       "      <td>38772</td>\n",
       "      <td>443</td>\n",
       "      <td>India</td>\n",
       "      <td>IN</td>\n",
       "      <td>IND</td>\n",
       "      <td>1.366418e+09</td>\n",
       "      <td>Asia</td>\n",
       "      <td>42.927135</td>\n",
       "    </tr>\n",
       "  </tbody>\n",
       "</table>\n",
       "</div>"
      ],
      "text/plain": [
       "                   dateRep  day  month  year  cases  deaths  \\\n",
       "26745           14/12/2020   14     12  2020  27071     336   \n",
       "26746           13/12/2020   13     12  2020  30254     391   \n",
       "26747  2020-12-12 00:00:00   12     12  2020  30006     442   \n",
       "26748  2020-11-12 00:00:00   11     12  2020  29398     414   \n",
       "26749  2020-10-12 00:00:00   10     12  2020  31521     412   \n",
       "26750  2020-09-12 00:00:00    9     12  2020  32080     402   \n",
       "26751  2020-08-12 00:00:00    8     12  2020  26567     385   \n",
       "26752  2020-07-12 00:00:00    7     12  2020  32981     391   \n",
       "26753  2020-06-12 00:00:00    6     12  2020  36011     482   \n",
       "26754  2020-05-12 00:00:00    5     12  2020  36652     512   \n",
       "26755  2020-04-12 00:00:00    4     12  2020  36595     540   \n",
       "26756  2020-03-12 00:00:00    3     12  2020  35551     526   \n",
       "26757  2020-02-12 00:00:00    2     12  2020  36604     501   \n",
       "26758  2020-01-12 00:00:00    1     12  2020  31118     482   \n",
       "26759           30/11/2020   30     11  2020  38772     443   \n",
       "\n",
       "      countriesAndTerritories geoId countryterritoryCode   popData2019  \\\n",
       "26745                   India    IN                  IND  1.366418e+09   \n",
       "26746                   India    IN                  IND  1.366418e+09   \n",
       "26747                   India    IN                  IND  1.366418e+09   \n",
       "26748                   India    IN                  IND  1.366418e+09   \n",
       "26749                   India    IN                  IND  1.366418e+09   \n",
       "26750                   India    IN                  IND  1.366418e+09   \n",
       "26751                   India    IN                  IND  1.366418e+09   \n",
       "26752                   India    IN                  IND  1.366418e+09   \n",
       "26753                   India    IN                  IND  1.366418e+09   \n",
       "26754                   India    IN                  IND  1.366418e+09   \n",
       "26755                   India    IN                  IND  1.366418e+09   \n",
       "26756                   India    IN                  IND  1.366418e+09   \n",
       "26757                   India    IN                  IND  1.366418e+09   \n",
       "26758                   India    IN                  IND  1.366418e+09   \n",
       "26759                   India    IN                  IND  1.366418e+09   \n",
       "\n",
       "      continentExp  Cumulative_number_for_14_days_of_COVID-19_cases_per_100000  \n",
       "26745         Asia                                          33.109128           \n",
       "26746         Asia                                          33.965454           \n",
       "26747         Asia                                          34.811169           \n",
       "26748         Asia                                          35.639320           \n",
       "26749         Asia                                          36.640771           \n",
       "26750         Asia                                          37.589822           \n",
       "26751         Asia                                          38.489693           \n",
       "26752         Asia                                          39.324577           \n",
       "26753         Asia                                          40.135310           \n",
       "26754         Asia                                          40.808457           \n",
       "26755         Asia                                          41.509560           \n",
       "26756         Asia                                          42.189220           \n",
       "26757         Asia                                          42.922891           \n",
       "26758         Asia                                          43.070210           \n",
       "26759         Asia                                          42.927135           "
      ]
     },
     "execution_count": 7,
     "metadata": {},
     "output_type": "execute_result"
    }
   ],
   "source": [
    "india_data = df.loc[df['countriesAndTerritories']=='India']\n",
    "india_data[:15]"
   ]
  },
  {
   "cell_type": "markdown",
   "id": "3b7460c6",
   "metadata": {},
   "source": [
    "This small portion of data was collected by the European Centre for Disease Pervention and Control on India. This information is displayed by the command to pull information about only India by specifying it from the \"countriesAndTerritories\" column of data. The data frame was adjusted to display the fifteen days of the COVID virus in India."
   ]
  },
  {
   "cell_type": "markdown",
   "id": "59807ced",
   "metadata": {},
   "source": [
    "## How the Number of Cases is Related to the Number of Deaths in India"
   ]
  },
  {
   "cell_type": "code",
   "execution_count": 8,
   "id": "312f7a87",
   "metadata": {},
   "outputs": [
    {
     "data": {
      "text/plain": [
       "<AxesSubplot:xlabel='cases', ylabel='deaths'>"
      ]
     },
     "execution_count": 8,
     "metadata": {},
     "output_type": "execute_result"
    },
    {
     "data": {
      "image/png": "[encoded data removed]",
      "text/plain": [
       "<Figure size 432x288 with 1 Axes>"
      ]
     },
     "metadata": {
      "needs_background": "light"
     },
     "output_type": "display_data"
    }
   ],
   "source": [
    "india_data.plot.scatter(x='cases',y='deaths',)"
   ]
  },
  {
   "cell_type": "markdown",
   "id": "35b6ef67",
   "metadata": {},
   "source": [
    "This information is about India. The scatter plot was formed with deaths This chart looks at how the number of COVID cases are related to deaths in India. This information indicates that as the number of cases increases so does the number of deaths."
   ]
  },
  {
   "cell_type": "markdown",
   "id": "fc34cf72",
   "metadata": {},
   "source": [
    "## The Cases in India per Month "
   ]
  },
  {
   "cell_type": "code",
   "execution_count": 9,
   "id": "5fcd1b20",
   "metadata": {},
   "outputs": [
    {
     "data": {
      "text/plain": [
       "<AxesSubplot:xlabel='month'>"
      ]
     },
     "execution_count": 9,
     "metadata": {},
     "output_type": "execute_result"
    },
    {
     "data": {
      "image/png": "[encoded data removed]",
      "text/plain": [
       "<Figure size 432x288 with 1 Axes>"
      ]
     },
     "metadata": {
      "needs_background": "light"
     },
     "output_type": "display_data"
    }
   ],
   "source": [
    "india_data_per_month = india_data.groupby('month').sum()['cases']\n",
    "india_data_per_month.plot(x='month',y='cases')"
   ]
  },
  {
   "cell_type": "markdown",
   "id": "69faba6b",
   "metadata": {},
   "source": [
    "This line chart shows the COVID cases per months in India. This data was formed with the use of the .groupby() command to collect and divide india_data base by month and the .sum() command to add up all the cases in each month. This graph indicated that COVID-19 cases in India spiked in September 2020, the cases continued to decrease."
   ]
  },
  {
   "cell_type": "markdown",
   "id": "dfdda09a",
   "metadata": {},
   "source": [
    "## Conclusion, Limitations, and Further Research"
   ]
  },
  {
   "cell_type": "markdown",
   "id": "0221afa5",
   "metadata": {},
   "source": [
    "In conclusions, the European Centre for Disease Pervention and Control(ECDC) provides clear information about the COVID-19 virus cases in each country and the country's population. The top coutries/territories with the highest cases of COVID include: the United States of America, India, Brazil, Russia, and France. The lowest countries/territories with the lowest cases of COVID include: Vanuatu,Wallis and Futuna, Marshall Islands, Auguilla, and Montserrat. The COVID-19 virus cases indicat a positive correlation between deaths and cases in India with the number of cases peaking around September 2020.\n",
    "\n",
    "Some limitations in this reseach include a lack of collected data in recent months and a lack of information of the devetion of cases in the countries. The European Centre for Disease Pervention and Control(ECDC)'s data is only undated until the December of 2020 and only show the cases as a whole from a country, not each state or provance.\n",
    "\n",
    "Further reseach would likely include suggestons of have a greater focus in looking at age groups in India and how that compares to other countries and how that effects the data."
   ]
  }
 ],
 "metadata": {
  "kernelspec": {
   "display_name": "conda_python3",
   "language": "python",
   "name": "conda_python3"
  },
  "language_info": {
   "codemirror_mode": {
    "name": "ipython",
    "version": 3
   },
   "file_extension": ".py",
   "mimetype": "text/x-python",
   "name": "python",
   "nbconvert_exporter": "python",
   "pygments_lexer": "ipython3",
   "version": "3.6.13"
  }
 },
 "nbformat": 4,
 "nbformat_minor": 5
}
